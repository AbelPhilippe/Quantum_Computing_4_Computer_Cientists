{
  "nbformat": 4,
  "nbformat_minor": 0,
  "metadata": {
    "colab": {
      "provenance": [],
      "authorship_tag": "ABX9TyOzOTHbn9RfD8eDfdZ7eahQ",
      "include_colab_link": true
    },
    "kernelspec": {
      "name": "python3",
      "display_name": "Python 3"
    },
    "language_info": {
      "name": "python"
    }
  },
  "cells": [
    {
      "cell_type": "markdown",
      "metadata": {
        "id": "view-in-github",
        "colab_type": "text"
      },
      "source": [
        "<a href=\"https://colab.research.google.com/github/AbelPhilippe/Quantum_Computing_4_Computer_Scientists/blob/main/TheBasics(ProgramDrill1_1_1).ipynb\" target=\"_parent\"><img src=\"https://colab.research.google.com/assets/colab-badge.svg\" alt=\"Open In Colab\"/></a>"
      ]
    },
    {
      "cell_type": "markdown",
      "source": [
        "# **BASIC DEFINITIONS**\n",
        "\n",
        "# The original motivation for the introduction of complex numbers was the theory of algebraic equations, the part of algebra that seeks solutions of polynomial equations. It became readily apparent that there are plenty of cases in which no solution among familiar numbers can be found. Here is the simplest example:\n",
        "# x2 + 1 = 0\n",
        "\n",
        "# Indeed, any possible x2 would be positive or zero. Adding 1 ends up with some quantity to the left that is strictly positive; hence, no solution exists.\n",
        "\n",
        "# Before building any new number system, it pays to remind ourselves of other sets of numbers that we usually work with:\n",
        "# .\n",
        "# .\n",
        "# 1 - Positive numbers, P = {1, 2, 3,...};\n",
        "# 2 - Natural numbers, N = {0, 1, 2, 3,...};\n",
        "# 3 - Integers (or whole numbers), Z = {..., −3, −2, −1, 0, 1, 2, 3,...};\n",
        "# 4 - rational numbers, Q = { m/n || m ∈ Z, n ∈ P};\n",
        "# 5 - real numbers, R = Q U{..., √2,..., e,...,π,..., e/π ...};\n",
        "# .\n",
        "# .\n",
        "# A complex number is an expression:\n",
        "# c = a + b × i = a + bi\n",
        "# where a, b are two real numbers; a is called the real part of c, whereas b is its imaginary part. The set of all complex numbers will be denoted as C. When the × is understood, we shall omit it. Complex numbers can be added and multiplied, as shown next.\n",
        "\n",
        "# Let c1 = 3 − i and c2 = 1 + 4i. We want to compute c1 + c2 and c1 × c2.\n",
        "# --------------------------------------------------------------------------------\n",
        "# c1 + c2 = 3 − i + 1 + 4i = (3 + 1) + (−1 + 4)i = 4 + 3i\n",
        "# --------------------------------------------------------------------------------\n",
        "# Multiplying is not as easy. We must remember to multiply each term of the first complex number with each term of the second complex number.\n",
        "# Also, remember that i 2 = −1.\n",
        "# c1 × c2 = (3 − i) × (1 + 4i) =\n",
        "# (3 × 1) + (3 × 4i) + (−i × 1) + (−i × 4i) =\n",
        "# (3 + 4) + (−1 + 12)i =\n",
        "# 7 + 11i"
      ],
      "metadata": {
        "id": "r5HuviQoqmGx"
      }
    },
    {
      "cell_type": "markdown",
      "source": [
        "# **PROGRAM DRILL 1.1.1**\n",
        "# Write a program that accepts two complex numbers and outputs their sum and their product."
      ],
      "metadata": {
        "id": "xYR5PbOBjiLv"
      }
    },
    {
      "cell_type": "code",
      "source": [
        "import numpy as np"
      ],
      "metadata": {
        "id": "06OlHjyjk3fn"
      },
      "execution_count": 1,
      "outputs": []
    },
    {
      "cell_type": "code",
      "source": [
        "complex_numbers = []\n",
        "for i in range(2):\n",
        "    nums = complex(input(f\"Write the real and the imaginary part. Input({i+1}): \"))\n",
        "    complex_numbers.append(nums)\n",
        "complex_numbers"
      ],
      "metadata": {
        "colab": {
          "base_uri": "https://localhost:8080/"
        },
        "id": "U2lmFs0Ajtse",
        "outputId": "07edc99e-561e-496d-b965-774c7fd15067"
      },
      "execution_count": 2,
      "outputs": [
        {
          "name": "stdout",
          "output_type": "stream",
          "text": [
            "Write the real and the imaginary part. Input(1): 3-j\n",
            "Write the real and the imaginary part. Input(2): 1+4j\n"
          ]
        },
        {
          "output_type": "execute_result",
          "data": {
            "text/plain": [
              "[(3-1j), (1+4j)]"
            ]
          },
          "metadata": {},
          "execution_count": 2
        }
      ]
    },
    {
      "cell_type": "code",
      "source": [
        "complex_number_1 = complex_numbers[0]\n",
        "complex_number_2 = complex_numbers[1]\n",
        "\n",
        "complex_number_1, complex_number_2"
      ],
      "metadata": {
        "colab": {
          "base_uri": "https://localhost:8080/"
        },
        "id": "rRou1nPb7B7G",
        "outputId": "73f71081-c874-4d3d-9e1e-238dff1f2ca5"
      },
      "execution_count": 3,
      "outputs": [
        {
          "output_type": "execute_result",
          "data": {
            "text/plain": [
              "((3-1j), (1+4j))"
            ]
          },
          "metadata": {},
          "execution_count": 3
        }
      ]
    },
    {
      "cell_type": "code",
      "source": [
        "sum = complex_number_1 + complex_number_2\n",
        "\n",
        "print(f\"Real Part: {sum.real:.0f} | Imaginary Part: {abs(sum.imag):.0f}j\")\n",
        "print(f\"Sum result: {sum.real:.0f} {'+' if sum.imag >= 0 else '-'} {abs(sum.imag):.0f}j\")\n",
        "print(f\"Complete Form: {sum}\")"
      ],
      "metadata": {
        "colab": {
          "base_uri": "https://localhost:8080/"
        },
        "id": "iSber1d5AGUc",
        "outputId": "c7669b1b-0859-400a-97e2-20fd57461e39"
      },
      "execution_count": 4,
      "outputs": [
        {
          "output_type": "stream",
          "name": "stdout",
          "text": [
            "Real Part: 4 | Imaginary Part: 3j\n",
            "Sum result: 4 + 3j\n",
            "Complete Form: (4+3j)\n"
          ]
        }
      ]
    },
    {
      "cell_type": "code",
      "source": [
        "product = complex_number_1 * complex_number_2\n",
        "\n",
        "print(f\"Real Part: {product.real:.0f} | Imaginary Part: {abs(product.imag):.0f}j\")\n",
        "print(f\"Multiplication result: {product.real:.0f} {'+' if product.imag >= 0 else '-'} {abs(product.imag):.0f}j\")\n",
        "print(f\"Complete Form: {product}\")"
      ],
      "metadata": {
        "colab": {
          "base_uri": "https://localhost:8080/"
        },
        "id": "1whdoxBR7xUi",
        "outputId": "d5d38812-6401-4f73-bef9-fb495f9bd5b1"
      },
      "execution_count": 5,
      "outputs": [
        {
          "output_type": "stream",
          "name": "stdout",
          "text": [
            "Real Part: 7 | Imaginary Part: 11j\n",
            "Multiplication result: 7 + 11j\n",
            "Complete Form: (7+11j)\n"
          ]
        }
      ]
    }
  ]
}