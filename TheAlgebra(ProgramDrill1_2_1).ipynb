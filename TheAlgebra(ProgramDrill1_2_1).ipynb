{
  "nbformat": 4,
  "nbformat_minor": 0,
  "metadata": {
    "colab": {
      "provenance": [],
      "authorship_tag": "ABX9TyOYP2Q08os7LjYTBBSXj7jj",
      "include_colab_link": true
    },
    "kernelspec": {
      "name": "python3",
      "display_name": "Python 3"
    },
    "language_info": {
      "name": "python"
    }
  },
  "cells": [
    {
      "cell_type": "markdown",
      "metadata": {
        "id": "view-in-github",
        "colab_type": "text"
      },
      "source": [
        "<a href=\"https://colab.research.google.com/github/AbelPhilippe/Quantum_Computing_4_Computer_Scientists/blob/main/TheAlgebra(ProgramDrill1_2_1).ipynb\" target=\"_parent\"><img src=\"https://colab.research.google.com/assets/colab-badge.svg\" alt=\"Open In Colab\"/></a>"
      ]
    },
    {
      "cell_type": "markdown",
      "source": [
        "# **THE ALGEBRA OF COMPLEX NUMBERS**\n",
        "# Using addition and multiplication, we can write any complex number in the usual form:\n",
        "# -------------------------------\n",
        "# c = (a, b) = (a, 0) + (0, b) = (a, 0) + (b, 0) × (0, 1) = a + bi.\n",
        "# -------------------------------\n",
        "# Let c1 = (3, −2) and c2 = (1, 2). Let us multiply them using the aforementioned rule:\n",
        "# c1 × c2 = (3 × 1 − (−2) × 2, −2 × 1 + 2 × 3) =\n",
        "# (3 + 4, −2 + 6) =\n",
        "# (7, 4) =\n",
        "# 7 + 4i.\n",
        "# Let c1 = (−3, −1) and c2 = (1, −2). Calculate their product.\n",
        "# So far, we have a set of numbers and two operations: addition and multiplication. Both operations are **commutative**, meaning that for arbitrary complex numbers c1 and c2:\n",
        "# c1 + c2 = c2 + c1\n",
        "# and\n",
        "# c1 × c2 = c2 × c1\n",
        "# Both operations are also **associative**:\n",
        "# (c1 + c2) + c3 = c1 + (c2 + c3)\n",
        "# and\n",
        "# (c1 × c2) × c3 = c1 × (c2 × c3)\n",
        "# Moreover, multiplication **distributes** over addition: for all c1, c2, c3, we have\n",
        "# c1 × (c2 + c3) = (c1 × c2) + (c1 × c3)\n",
        "# Let us verify this property: first we write the complex numbers as pairs c1 = (a1, b1), c2 = (a2, b2), and c3 = (a3, b3).\n",
        "# Now, let us expand the left side:\n",
        "# c1 × (c2 + c3) =\n",
        "# (a1, b1) × ((a2, b2) + (a3, b3)) =\n",
        "# (a1, b1) × (a2 + a3, b2 + b3)=\n",
        "# (a1 × (a2 + a3) − b1 × (b2 + b3), a1 × (b2 + b3) + b1 × (a2 + a3)) =\n",
        "# (a1 × a2 + a1 × a3 − b1 × b2 − b1 × b3, a1 × b2 + a1 × b3 + b1 × a2 + b1 × a3).\n",
        "# Turning to the right side of Equation one piece at a time gives:\n",
        "# c1 × c2 = (a1 × a2 − b1 × b2, a1 × b2 + a2 × b1)\n",
        "# c1 × c3 = (a1 × a3 − b1 × b3, a1 × b3 + a3 × b1)\n",
        "# summing them up we obtain:\n",
        "# c1 × c2 + c1 × c3 =\n",
        "# (a1 × a2 − b1 × b2 + a1 × a3 − b1 × b3,\n",
        "# a1 × b2 + a2 × b1 + a1 × b3 + a3 × b1)\n",
        "# Having addition and multiplication, we need their complementary operations:\n",
        "# subtraction and division.\n",
        "# Subtraction is straightforward:\n",
        "# c1 − c2 = (a1, b1) − (a2, b2) = (a1 − a2, b1 − b2)\n",
        "# in other words, subtraction is defined componentwise, as expected.\n",
        "# As for division, we have to work a little: If\n",
        "# (x, y) = (a1, b1)/(a2, b2)\n",
        "# then by definition of division as the inverse of multiplication\n",
        "# (a1, b1) = (x, y) × (a2, b2)\n",
        "# or\n",
        "# (a1, b1) = (a2x − b2 y, a2 y + b2x)\n",
        "# So we end up with\n",
        "#(1) a1 = a2x − b2 y, (1.29)\n",
        "#(2) b1 = a2 y + b2x\n",
        "# We can define a generalization of this operation2 to the complex domain by letting\n",
        "# |c| = |a + bi| = +√a2 + √b2\n",
        "# This quantity is known as the **modulus** of a complex number.\n",
        "# What is the modulus of c = 1 − i?\n",
        "# -------------------------------\n",
        "# |c|=|1 − i| = +√12 + √(−1)2 = √2.\n",
        "# -------------------------------\n",
        "# (i) Addition is commutative and associative.\n",
        "# (ii) Multiplication is commutative and associative.\n",
        "# (iii) Addition has an identity: (0, 0).\n",
        "# (iv) Multiplication has an identity: (1, 0).\n",
        "# (v) Multiplication distributes with respect to addition.\n",
        "# (vi) Subtraction (i.e., the inverse of addition) is defined everywhere.\n",
        "# (vii) Division (i.e., the inverse of multiplication) is defined everywhere except when the divisor is zero.\n",
        "# In words, the modulus squared of a complex number is obtained by multiplying the number with its conjugate. For example:\n",
        "# (3 + 2i) × (3 − 2i) = 32 + 22 = 13 = |3 + 2i|^2"
      ],
      "metadata": {
        "id": "-fILdP0YSsor"
      }
    },
    {
      "cell_type": "markdown",
      "source": [
        "# **Programming Drill 1.2.1**\n",
        "# Take the program that you wrote in the last programming drill and make it also perform subtraction and division of complex numbers. In addition, let the user enter a complex number and have the computer return its modulus and conjugate."
      ],
      "metadata": {
        "id": "A9v6xWiuae6C"
      }
    },
    {
      "cell_type": "code",
      "source": [
        "import numpy as np"
      ],
      "metadata": {
        "id": "1FiJ9UexdSFn"
      },
      "execution_count": 4,
      "outputs": []
    },
    {
      "cell_type": "code",
      "source": [
        "complex_numbers = []\n",
        "for i in range(2):\n",
        "    nums = complex(input(f\"Write the real and the imaginary part. Input({i+1}): \"))\n",
        "    complex_numbers.append(nums)\n",
        "complex_numbers\n",
        "#------------------------------\n",
        "# 3-j\n",
        "# 1+4j\n",
        "#------------------------------"
      ],
      "metadata": {
        "colab": {
          "base_uri": "https://localhost:8080/"
        },
        "id": "gKnh-JuyeDNO",
        "outputId": "068ece03-350c-4505-8c0c-0f2525d8126d"
      },
      "execution_count": 5,
      "outputs": [
        {
          "name": "stdout",
          "output_type": "stream",
          "text": [
            "Write the real and the imaginary part. Input(1): 3-j\n",
            "Write the real and the imaginary part. Input(2): 1+4j\n"
          ]
        },
        {
          "output_type": "execute_result",
          "data": {
            "text/plain": [
              "[(3-1j), (1+4j)]"
            ]
          },
          "metadata": {},
          "execution_count": 5
        }
      ]
    },
    {
      "cell_type": "code",
      "execution_count": 6,
      "metadata": {
        "colab": {
          "base_uri": "https://localhost:8080/"
        },
        "id": "kAWwrtwRRQGn",
        "outputId": "fda4f417-6b34-4823-b36e-96d99f4dbdfc"
      },
      "outputs": [
        {
          "output_type": "execute_result",
          "data": {
            "text/plain": [
              "((3-1j), (1+4j))"
            ]
          },
          "metadata": {},
          "execution_count": 6
        }
      ],
      "source": [
        "complex_number_1 = complex_numbers[0]\n",
        "complex_number_2 = complex_numbers[1]\n",
        "\n",
        "complex_number_1, complex_number_2"
      ]
    },
    {
      "cell_type": "code",
      "source": [
        "subtraction = complex_number_1 - complex_number_2\n",
        "\n",
        "print(f\"Real Part: {subtraction.real:.0f} | Imaginary Part: {abs(subtraction.imag):.0f}j\")\n",
        "print(f\"Subtraction result: {subtraction.real:.0f} {'+' if subtraction.imag >= 0 else '-'} {abs(subtraction.imag):.0f}j\")\n",
        "print(f\"Complete Form: {subtraction}\")"
      ],
      "metadata": {
        "colab": {
          "base_uri": "https://localhost:8080/"
        },
        "id": "tnTHl_CkeYxu",
        "outputId": "94774e72-61d3-4ad2-ef4f-f5ce4cc45cf6"
      },
      "execution_count": 8,
      "outputs": [
        {
          "output_type": "stream",
          "name": "stdout",
          "text": [
            "Real Part: 2 | Imaginary Part: 5j\n",
            "Subtraction result: 2 - 5j\n",
            "Complete Form: (2-5j)\n"
          ]
        }
      ]
    },
    {
      "cell_type": "markdown",
      "source": [
        "# **Divide Complex Numbers**\n",
        "# To divide two complex numbers, we multiply the numerator and denominator by the conjugate of the denominator:\n",
        "# numerator: (3 − i)\n",
        "# denominator: (1 + 4i)\n",
        "# conjugate of the denominator: (1 − 4i)\n",
        "# We multiply -> Numerator × Conjugate of Denominator:\n",
        "# (3 − i) × (1 − 4i) = 3(1) − 3(4i) − i(1) + i(4i) =\n",
        "# 3 − 12i − i + 4i^2 =\n",
        "# 3 − 13i + 4(−1) =\n",
        "# 3 − 13i − 4 =\n",
        "# −1 − 13i\n",
        "# We multiply -> Denominator × Conjugate of Denominator:\n",
        "# (1+4i) × (1−4i) =\n",
        "# 1^2 − (4i)^2 =\n",
        "# 1 − 16(−1) =\n",
        "# 1 + 16 =\n",
        "# 17\n",
        "# Final:\n",
        "# 1+4i/3−i =\n",
        "# (-1 − 13i)/(-17) =\n",
        "# - 1/17 - 13i/17 =\n",
        "# -0.06 - 0.76i = -0.06 - 0.76j"
      ],
      "metadata": {
        "id": "-xqJ-XB9gJ38"
      }
    },
    {
      "cell_type": "code",
      "source": [
        "division = complex_number_1 / complex_number_2\n",
        "\n",
        "print(f\"Real Part: {division.real:.2f} | Imaginary Part: {abs(division.imag):.2f}j\")\n",
        "print(f\"division result: {division.real:.2f} {'+' if division.imag >= 0 else '-'} {abs(division.imag):.2f}j\")\n",
        "print(f\"Complete Form: {division:.2f}\")"
      ],
      "metadata": {
        "colab": {
          "base_uri": "https://localhost:8080/"
        },
        "id": "YcmwLc1Ye09g",
        "outputId": "c85fa574-8d93-4284-b3a8-ea5a7ae4369c"
      },
      "execution_count": 23,
      "outputs": [
        {
          "output_type": "stream",
          "name": "stdout",
          "text": [
            "Real Part: -0.06 | Imaginary Part: 0.76j\n",
            "division result: -0.06 - 0.76j\n",
            "Complete Form: -0.06-0.76j\n"
          ]
        }
      ]
    },
    {
      "cell_type": "code",
      "source": [
        "for i, complex_number in enumerate([complex_number_1, complex_number_2], 1):\n",
        "    module = abs(complex_number)\n",
        "    conjugate = np.conj(complex_number)\n",
        "    print(\"---------------------------\")\n",
        "    print(f\"Complex Number {i}: {complex_number}\")\n",
        "    print(f\"Module: {module:.2f}\")\n",
        "    print(f\"Conjugate: {conjugate}\")\n",
        "    print(\"---------------------------\")"
      ],
      "metadata": {
        "colab": {
          "base_uri": "https://localhost:8080/"
        },
        "id": "y1Y44QzYlDX_",
        "outputId": "af69a372-ba6c-4fe5-a958-274167c195bb"
      },
      "execution_count": 27,
      "outputs": [
        {
          "output_type": "stream",
          "name": "stdout",
          "text": [
            "---------------------------\n",
            "Complex Number 1: (3-1j)\n",
            "Module: 3.16\n",
            "Conjugate: (3+1j)\n",
            "---------------------------\n",
            "---------------------------\n",
            "Complex Number 2: (1+4j)\n",
            "Module: 4.12\n",
            "Conjugate: (1-4j)\n",
            "---------------------------\n"
          ]
        }
      ]
    }
  ]
}